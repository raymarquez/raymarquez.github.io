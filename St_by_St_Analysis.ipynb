{
 "cells": [
  {
   "cell_type": "code",
   "execution_count": null,
   "metadata": {},
   "outputs": [],
   "source": [
    "import pandas as pd\n",
    "from matplotlib import pyplot as plt\n",
    "\n",
    "df = pd.read_csv('insighters_output.csv', thousands=',')\n",
    "consolidated_df = df.groupby('State').agg({'Active Loans': 'sum', 'Average Borrower Gross Income': 'mean', 'Very Low Income': 'sum', 'Low Income': 'sum',\n",
    "                                           'Moderate Income': 'sum', 'Average Debt Ratio': 'mean', 'American Indian/\\nAlaskan Native': 'sum',\n",
    "                                           'Asian': 'sum', 'Black/\\nAfrican-America': 'sum', 'Hawaiian/Pacific Islander': 'sum', 'White': 'sum', 'Hispanic': 'sum',\n",
    "                                           'Married': 'sum', 'Average No of Depend': 'mean', 'Average Hshld Size': 'mean', 'First Time Home Buyer': 'sum',\n",
    "                                           'Average Borrower Age': 'mean', 'Disability': 'sum',\t'PUD': 'sum', 'Condo': 'sum', 'Coop': 'sum', 'Unknown  HSG Proj Type': 'sum',\n",
    "                                           'Detached Structure': 'sum',\t'Attached Structure': 'sum', 'Unknown Stucture': 'sum',\t'Manufactured Homes': 'sum',\n",
    "                                           'Average Living Area (Square Ft)': 'mean', 'Average Request Amount': 'mean', 'Average Loan Amount': 'mean', 'Average LTV': 'mean',\n",
    "                                           'Average Appraised Value': 'mean'})\n",
    "\n",
    "consolidated_df['State'] = consolidated_df.index"
   ]
  },
  {
   "cell_type": "code",
   "execution_count": null,
   "metadata": {},
   "outputs": [],
   "source": [
    "# creates the 'generosity' df\n",
    "consolidated_df['Generosity'] = consolidated_df['Average Request Amount'] - consolidated_df['Average Loan Amount'] "
   ]
  },
  {
   "cell_type": "code",
   "execution_count": null,
   "metadata": {},
   "outputs": [],
   "source": [
    "consolidated_df['Equity'] = consolidated_df['Average Appraised Value'] - consolidated_df['Average Loan Amount']\n",
    "ax = consolidated_df.sort_values(by='Equity', ascending=False)[:10].plot. \\\n",
    "    bar(x='State', y='Equity', color='blue', legend=False, title=\"Top 10 Highest Equity at Closing\")\n",
    "ax.set_ylabel('Loan vs. Appraised Value');\n",
    "plt.savefig('james1.png')"
   ]
  },
  {
   "cell_type": "code",
   "execution_count": null,
   "metadata": {},
   "outputs": [],
   "source": [
    "ax = consolidated_df.sort_values(by='Average LTV', ascending=False)[:10].plot. \\\n",
    "    bar(x='State', y='Average LTV', color='green', legend=False, title=\"Top 10 Highest Loan-to-Value Ratio\")\n",
    "ax.set_ylabel('Average LTV');\n",
    "plt.savefig('james2.png')"
   ]
  },
  {
   "cell_type": "code",
   "execution_count": null,
   "metadata": {},
   "outputs": [],
   "source": [
    "ax = consolidated_df.sort_values(by='Generosity', ascending=False)[:10].plot. \\\n",
    "    bar(x='State', y='Generosity', color='red', legend=False, title=\"Top 10 Least Loan Amount Granted\")\n",
    "ax.set_ylabel('Loan Req vs. Appr Amount');\n",
    "plt.savefig('james3.png')"
   ]
  },
  {
   "cell_type": "code",
   "execution_count": null,
   "metadata": {},
   "outputs": [],
   "source": [
    "ax = consolidated_df.sort_values(by='Generosity')[:10].plot. \\\n",
    "    bar(x='State', y='Generosity', color='orange', legend=False, title=\"Top 10 Highest Loan Amount Granted\")\n",
    "ax.set_ylabel('Loan Req vs. Appr Amount');\n",
    "plt.savefig('james4.png')"
   ]
  },
  {
   "cell_type": "code",
   "execution_count": null,
   "metadata": {},
   "outputs": [],
   "source": []
  }
 ],
 "metadata": {
  "kernelspec": {
   "display_name": "Python 3",
   "language": "python",
   "name": "python3"
  },
  "language_info": {
   "codemirror_mode": {
    "name": "ipython",
    "version": 3
   },
   "file_extension": ".py",
   "mimetype": "text/x-python",
   "name": "python",
   "nbconvert_exporter": "python",
   "pygments_lexer": "ipython3",
   "version": "3.7.3"
  }
 },
 "nbformat": 4,
 "nbformat_minor": 2
}
