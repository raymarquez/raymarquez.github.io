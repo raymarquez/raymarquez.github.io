{
 "cells": [
  {
   "cell_type": "code",
   "execution_count": 1,
   "metadata": {},
   "outputs": [],
   "source": [
    "import pandas as pd\n",
    "\n",
    "df = pd.read_csv('insighters.csv', thousands=',')"
   ]
  },
  {
   "cell_type": "code",
   "execution_count": 2,
   "metadata": {},
   "outputs": [],
   "source": [
    "consolidated_df = df.groupby('State').agg({'Active Loans': 'sum', 'Average Borrower Gross Income': 'mean', 'Very Low Income': 'sum', 'Low Income': 'sum',\n",
    "                                           'Moderate Income': 'sum', 'Average Debt Ratio': 'mean', 'American Indian/\\nAlaskan Native': 'sum',\n",
    "                                           'Asian': 'sum', 'Black/\\nAfrican-America': 'sum', 'Hawaiian/Pacific Islander': 'sum', 'White': 'sum', 'Hispanic': 'sum',\n",
    "                                           'Married': 'sum', 'Average No of Depend': 'mean', 'Average Hshld Size': 'mean', 'First Time Home Buyer': 'sum',\n",
    "                                           'Average Borrower Age': 'mean', 'Disability': 'sum', 'PUD': 'sum', 'Condo': 'sum', 'Coop': 'sum', 'Unknown  HSG Proj Type': 'sum',\n",
    "                                           'Detached Structure': 'sum', 'Attached Structure': 'sum', 'Unknown Stucture': 'sum', 'Manufactured Homes': 'sum',\n",
    "                                           'Average Living Area (Square Ft)': 'mean', 'Average Request Amount': 'mean', 'Average Loan Amount': 'mean', 'Average LTV': 'mean',\n",
    "                                           'Average Appraised Value': 'mean'})"
   ]
  },
  {
   "cell_type": "code",
   "execution_count": 3,
   "metadata": {},
   "outputs": [],
   "source": [
    "consolidated_df['Unknown Income'] =  consolidated_df['Active Loans'] - consolidated_df['Very Low Income'] - consolidated_df['Low Income'] - consolidated_df['Moderate Income']"
   ]
  },
  {
   "cell_type": "code",
   "execution_count": 4,
   "metadata": {},
   "outputs": [],
   "source": [
    "consolidated_df.to_csv('insighters_output.csv')"
   ]
  }
 ],
 "metadata": {
  "kernelspec": {
   "display_name": "Python 3",
   "language": "python",
   "name": "python3"
  },
  "language_info": {
   "codemirror_mode": {
    "name": "ipython",
    "version": 3
   },
   "file_extension": ".py",
   "mimetype": "text/x-python",
   "name": "python",
   "nbconvert_exporter": "python",
   "pygments_lexer": "ipython3",
   "version": "3.7.3"
  }
 },
 "nbformat": 4,
 "nbformat_minor": 2
}
